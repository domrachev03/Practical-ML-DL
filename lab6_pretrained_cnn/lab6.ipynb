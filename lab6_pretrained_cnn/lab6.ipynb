{
 "cells": [
  {
   "cell_type": "markdown",
   "id": "55b3f3bf",
   "metadata": {
    "id": "EzSZcvASEQX-",
    "papermill": {
     "duration": 0.005788,
     "end_time": "2023-10-07T23:40:47.759897",
     "exception": false,
     "start_time": "2023-10-07T23:40:47.754109",
     "status": "completed"
    },
    "tags": []
   },
   "source": [
    "# Practical machine learning and deep learning. Lab 6\n",
    "\n",
    "# Transfer Learning in Computer Vision\n",
    "\n",
    "# [Competition](https://www.kaggle.com/t/17ac6cc24170468fb7bc3bf5bd9a5b23)\n",
    "\n",
    "## Goal\n",
    "\n",
    "In this lab you will implement clothes classifier using a pretrained model. You are allowed to use any pretrained model that you know (e.g. VGG, ResNet, etc.)\n",
    "\n",
    "## Submission\n",
    "\n",
    "Submission format is described at competition page.\n",
    "\n",
    "> Remember, you can use any structure of the solution. The template classes/function in this file is just the tip for you."
   ]
  },
  {
   "cell_type": "code",
   "execution_count": 1,
   "id": "ffd0ea06",
   "metadata": {
    "execution": {
     "iopub.execute_input": "2023-10-07T23:40:47.772272Z",
     "iopub.status.busy": "2023-10-07T23:40:47.771943Z",
     "iopub.status.idle": "2023-10-07T23:40:51.536380Z",
     "shell.execute_reply": "2023-10-07T23:40:51.535449Z"
    },
    "id": "FvtlMoeqELoV",
    "papermill": {
     "duration": 3.77428,
     "end_time": "2023-10-07T23:40:51.539356",
     "exception": false,
     "start_time": "2023-10-07T23:40:47.765076",
     "status": "completed"
    },
    "tags": []
   },
   "outputs": [
    {
     "data": {
      "text/plain": [
       "<torch._C.Generator at 0x7eff4dfa2210>"
      ]
     },
     "execution_count": 1,
     "metadata": {},
     "output_type": "execute_result"
    }
   ],
   "source": [
    "import torch\n",
    "import pandas as pd\n",
    "import numpy as np\n",
    "import matplotlib.pyplot as plt\n",
    "from IPython.display import display\n",
    "\n",
    "import warnings\n",
    "warnings.filterwarnings(\"ignore\")\n",
    "\n",
    "torch.manual_seed(0)"
   ]
  },
  {
   "cell_type": "markdown",
   "id": "e299f84d",
   "metadata": {
    "id": "542hhXdrIe2h",
    "papermill": {
     "duration": 0.005808,
     "end_time": "2023-10-07T23:40:51.551885",
     "exception": false,
     "start_time": "2023-10-07T23:40:51.546077",
     "status": "completed"
    },
    "tags": []
   },
   "source": [
    "## Data reading and preprocessing"
   ]
  },
  {
   "cell_type": "markdown",
   "id": "7d00d5fd",
   "metadata": {
    "id": "sEMwYaImPIVh",
    "papermill": {
     "duration": 0.005142,
     "end_time": "2023-10-07T23:40:51.562316",
     "exception": false,
     "start_time": "2023-10-07T23:40:51.557174",
     "status": "completed"
    },
    "tags": []
   },
   "source": [
    "Prepare a class for FashionMNIST dataset to easily read data and apply transformations when retrieving examples."
   ]
  },
  {
   "cell_type": "code",
   "execution_count": 2,
   "id": "411940ce",
   "metadata": {
    "execution": {
     "iopub.execute_input": "2023-10-07T23:40:51.574236Z",
     "iopub.status.busy": "2023-10-07T23:40:51.573798Z",
     "iopub.status.idle": "2023-10-07T23:40:51.920561Z",
     "shell.execute_reply": "2023-10-07T23:40:51.919659Z"
    },
    "id": "Ec5nEt-GFxwH",
    "papermill": {
     "duration": 0.355248,
     "end_time": "2023-10-07T23:40:51.922705",
     "exception": false,
     "start_time": "2023-10-07T23:40:51.567457",
     "status": "completed"
    },
    "tags": []
   },
   "outputs": [],
   "source": [
    "from torch.utils.data import Dataset\n",
    "import torchvision.transforms as transforms\n",
    "from PIL import Image\n",
    "\n",
    "pixels_mean, pixels_std = 0, 0\n",
    "\n",
    "class FashionMNISTDataset(Dataset):\n",
    "    '''Dataset class for FashionMNIST'''\n",
    "\n",
    "    def __init__(self, csv_path, pixels_mean = None, pixels_std = None, train=True):\n",
    "        ''' Read data and prepare tranforms\n",
    "\n",
    "            Args:\n",
    "            - csv_path(str): full name of the csv file\n",
    "            - train(bool): is train set loaded, determines whether to return labels\n",
    "        '''\n",
    "        self.csv_path = csv_path\n",
    "        self.train = train\n",
    "        self.initial_size = 28\n",
    "        self.image_size = 224\n",
    "\n",
    "        # Read csv file of the dataset and set index_col to 0\n",
    "        self.fm_raw = pd.read_csv(csv_path, index_col=0)\n",
    "        \n",
    "        # Extract the pixel values of the images as a numpy array\n",
    "        self.images = self.fm_raw.iloc[:, 0:self.initial_size**2].to_numpy(dtype=np.float32)\n",
    "        # Reshape images to have 28x28 shape\n",
    "        self.images = self.images.reshape(-1, self.initial_size, self.initial_size)\n",
    "        \n",
    "        # Stacking channels on each other\n",
    "        self.images = np.stack((self.images, )*3, axis=-1)\n",
    "\n",
    "        # Make pixels vary from 0 to 1\n",
    "        self.images /= 255\n",
    "        \n",
    "        if pixels_mean is None or pixels_std is None:\n",
    "            self.pixels_mean = self.images.mean()\n",
    "            self.pixels_std  = self.images.std()\n",
    "        else:\n",
    "            self.pixels_mean = pixels_mean\n",
    "            self.pixels_std = pixels_std\n",
    "        self.images = (self.images - self.pixels_mean) / self.pixels_std \n",
    "        # Transform w.r.t. ResNet network         \n",
    "        self.transform = transforms.Compose([\n",
    "            transforms.ToTensor(),\n",
    "            transforms.Resize((224, 224)),\n",
    "        ])\n",
    "        if train:\n",
    "            # The last column of the dataframe stores that labels. Extract them.\n",
    "            self.labels = self.fm_raw.iloc[:, self.initial_size**2].to_numpy(dtype=np.long)\n",
    "        else:\n",
    "            # There is no labels in the test dataset, so they are set to None\n",
    "            self.labels = None\n",
    "\n",
    "    def __getitem__(self, index):\n",
    "        '''Returns the data of the example at the given index'''\n",
    "        # Get images at the given index\n",
    "        images = self.images[index]\n",
    "        # Transform the images\n",
    "        transformed_images = self.transform(images)\n",
    "            \n",
    "        if self.train:\n",
    "            # Get labels at the given index\n",
    "            labels = self.labels[index]\n",
    "            # Return transformed_images and labels as a pair\n",
    "            return transformed_images, labels\n",
    "        return transformed_images\n",
    "\n",
    "    def __len__(self):\n",
    "        '''Returns length of the dataset'''\n",
    "        return len(self.images)"
   ]
  },
  {
   "cell_type": "markdown",
   "id": "3c816c96",
   "metadata": {
    "id": "4-jnZM7OPnXh",
    "papermill": {
     "duration": 0.005052,
     "end_time": "2023-10-07T23:40:51.933311",
     "exception": false,
     "start_time": "2023-10-07T23:40:51.928259",
     "status": "completed"
    },
    "tags": []
   },
   "source": [
    "Read data and prepare a dataset"
   ]
  },
  {
   "cell_type": "code",
   "execution_count": 3,
   "id": "f56d2d97",
   "metadata": {
    "execution": {
     "iopub.execute_input": "2023-10-07T23:40:51.945062Z",
     "iopub.status.busy": "2023-10-07T23:40:51.944745Z",
     "iopub.status.idle": "2023-10-07T23:40:57.858377Z",
     "shell.execute_reply": "2023-10-07T23:40:57.857439Z"
    },
    "id": "NNtTM0hiPvPJ",
    "papermill": {
     "duration": 5.922256,
     "end_time": "2023-10-07T23:40:57.860773",
     "exception": false,
     "start_time": "2023-10-07T23:40:51.938517",
     "status": "completed"
    },
    "tags": []
   },
   "outputs": [],
   "source": [
    "import os\n",
    "\n",
    "dir = '/kaggle/input/pmldl-week-6-transfer-learning-in-cv/'\n",
    "filename = 'fashion_mnist_train.csv'\n",
    "full_filename = os.path.join(dir, filename)\n",
    "dataset = FashionMNISTDataset(csv_path=full_filename, train=True)"
   ]
  },
  {
   "cell_type": "code",
   "execution_count": 4,
   "id": "00735099",
   "metadata": {
    "execution": {
     "iopub.execute_input": "2023-10-07T23:40:57.872907Z",
     "iopub.status.busy": "2023-10-07T23:40:57.872630Z",
     "iopub.status.idle": "2023-10-07T23:40:57.876648Z",
     "shell.execute_reply": "2023-10-07T23:40:57.875758Z"
    },
    "papermill": {
     "duration": 0.011886,
     "end_time": "2023-10-07T23:40:57.878290",
     "exception": false,
     "start_time": "2023-10-07T23:40:57.866404",
     "status": "completed"
    },
    "tags": []
   },
   "outputs": [],
   "source": [
    "pixels_mean, pixels_std = dataset.pixels_mean, dataset.pixels_std"
   ]
  },
  {
   "cell_type": "markdown",
   "id": "5972683b",
   "metadata": {
    "id": "MixzPT21QXpB",
    "papermill": {
     "duration": 0.00497,
     "end_time": "2023-10-07T23:40:57.888353",
     "exception": false,
     "start_time": "2023-10-07T23:40:57.883383",
     "status": "completed"
    },
    "tags": []
   },
   "source": [
    "Split the dataset into training and validation subsets using `random_split`"
   ]
  },
  {
   "cell_type": "code",
   "execution_count": 5,
   "id": "412d94f5",
   "metadata": {
    "execution": {
     "iopub.execute_input": "2023-10-07T23:40:57.899901Z",
     "iopub.status.busy": "2023-10-07T23:40:57.899352Z",
     "iopub.status.idle": "2023-10-07T23:40:57.924370Z",
     "shell.execute_reply": "2023-10-07T23:40:57.923550Z"
    },
    "id": "qR1q_gxcQTOB",
    "papermill": {
     "duration": 0.032705,
     "end_time": "2023-10-07T23:40:57.926216",
     "exception": false,
     "start_time": "2023-10-07T23:40:57.893511",
     "status": "completed"
    },
    "tags": []
   },
   "outputs": [],
   "source": [
    "from torch.utils.data import random_split\n",
    "\n",
    "# Set percentage of data to use as a training subset\n",
    "train_ratio = 0.9\n",
    "\n",
    "train_size = int(train_ratio * len(dataset))\n",
    "test_size = len(dataset) - train_size\n",
    "\n",
    "train_dataset, val_dataset = random_split(dataset, [train_size, test_size])"
   ]
  },
  {
   "cell_type": "markdown",
   "id": "e8b3b4ff",
   "metadata": {
    "id": "Um7aKwWwRePw",
    "papermill": {
     "duration": 0.005003,
     "end_time": "2023-10-07T23:40:57.936405",
     "exception": false,
     "start_time": "2023-10-07T23:40:57.931402",
     "status": "completed"
    },
    "tags": []
   },
   "source": [
    "Make dataloader to perform batching and apply transformations"
   ]
  },
  {
   "cell_type": "code",
   "execution_count": 6,
   "id": "24d89d94",
   "metadata": {
    "execution": {
     "iopub.execute_input": "2023-10-07T23:40:57.948619Z",
     "iopub.status.busy": "2023-10-07T23:40:57.947807Z",
     "iopub.status.idle": "2023-10-07T23:40:57.953092Z",
     "shell.execute_reply": "2023-10-07T23:40:57.952304Z"
    },
    "id": "ouVXDDMQRFkS",
    "papermill": {
     "duration": 0.013141,
     "end_time": "2023-10-07T23:40:57.954761",
     "exception": false,
     "start_time": "2023-10-07T23:40:57.941620",
     "status": "completed"
    },
    "tags": []
   },
   "outputs": [],
   "source": [
    "from torch.utils.data import DataLoader\n",
    "\n",
    "# Set the batch size\n",
    "batch_size = 128\n",
    "\n",
    "train_loader = DataLoader(\n",
    "    train_dataset, batch_size=batch_size, shuffle=True, drop_last = True\n",
    ")\n",
    "val_loader = DataLoader(\n",
    "    val_dataset, batch_size=batch_size, shuffle=False, drop_last = True\n",
    ")"
   ]
  },
  {
   "cell_type": "markdown",
   "id": "431e5400",
   "metadata": {
    "id": "cSaNJuo_Rqfp",
    "papermill": {
     "duration": 0.005002,
     "end_time": "2023-10-07T23:40:57.964950",
     "exception": false,
     "start_time": "2023-10-07T23:40:57.959948",
     "status": "completed"
    },
    "tags": []
   },
   "source": [
    "Visually check the images"
   ]
  },
  {
   "cell_type": "code",
   "execution_count": 7,
   "id": "5a06f887",
   "metadata": {
    "execution": {
     "iopub.execute_input": "2023-10-07T23:40:57.976220Z",
     "iopub.status.busy": "2023-10-07T23:40:57.975969Z",
     "iopub.status.idle": "2023-10-07T23:40:58.534341Z",
     "shell.execute_reply": "2023-10-07T23:40:58.533491Z"
    },
    "id": "LMVzOwxCR-3x",
    "outputId": "7c5f1e6d-0062-40f8-dc77-edabc70129f4",
    "papermill": {
     "duration": 0.566251,
     "end_time": "2023-10-07T23:40:58.536377",
     "exception": false,
     "start_time": "2023-10-07T23:40:57.970126",
     "status": "completed"
    },
    "tags": []
   },
   "outputs": [
    {
     "data": {
      "image/png": "[encoded data removed]",
      "text/plain": [
       "<Figure size 1600x800 with 1 Axes>"
      ]
     },
     "metadata": {},
     "output_type": "display_data"
    }
   ],
   "source": [
    "import matplotlib.pyplot as plt\n",
    "from torchvision.utils import make_grid\n",
    "\n",
    "for images, _ in train_loader:\n",
    "    images = images[:16]\n",
    "    plt.figure(figsize=(16,8))\n",
    "    plt.axis('off')\n",
    "    plt.imshow(make_grid(images, nrow=16).permute((1, 2, 0)))\n",
    "    break"
   ]
  },
  {
   "cell_type": "markdown",
   "id": "64a0f60d",
   "metadata": {
    "id": "SiPzLiI-SXVR",
    "papermill": {
     "duration": 0.005916,
     "end_time": "2023-10-07T23:40:58.548592",
     "exception": false,
     "start_time": "2023-10-07T23:40:58.542676",
     "status": "completed"
    },
    "tags": []
   },
   "source": [
    "## Model Implementation\n",
    "Implement a PyTorch model that uses a pretrained model for computer vision to classify the clothes. You are allowed to use any models initially trained for other tasks (e.g. VGG, ResNet, etc). You may experiment with [freezing](https://pytorch.org/docs/master/notes/autograd.html#setting-requires-grad) some layers of the pretrained model. If you are interested, you may try to build your own CNN model for FashionMNIST classification."
   ]
  },
  {
   "cell_type": "code",
   "execution_count": 8,
   "id": "fc5d18e4",
   "metadata": {
    "execution": {
     "iopub.execute_input": "2023-10-07T23:40:58.561609Z",
     "iopub.status.busy": "2023-10-07T23:40:58.561006Z",
     "iopub.status.idle": "2023-10-07T23:40:58.568111Z",
     "shell.execute_reply": "2023-10-07T23:40:58.567215Z"
    },
    "id": "JZuhjsQ7SA6R",
    "papermill": {
     "duration": 0.015639,
     "end_time": "2023-10-07T23:40:58.569879",
     "exception": false,
     "start_time": "2023-10-07T23:40:58.554240",
     "status": "completed"
    },
    "tags": []
   },
   "outputs": [],
   "source": [
    "import torchvision.models as models\n",
    "import torch.nn as nn\n",
    "\n",
    "class FashionMNISTModel(nn.Module):\n",
    "  '''PyTorch model for FashionMNIST classification'''\n",
    "\n",
    "  def __init__(self, in_channels=1, pretrained_model = None):\n",
    "    '''Sets the pretrained model and makes specific modifications'''\n",
    "    super(FashionMNISTModel, self).__init__()\n",
    "\n",
    "    # Here you load a pretrained model and\n",
    "    # add modifications to classify FashionMNIST images\n",
    "    # out of 10 possible labels\n",
    "    \n",
    "    # Preloaded model\n",
    "    self.ResNet_model = torch.hub.load('pytorch/vision:v0.10.0', 'resnet50', pretrained=True)\n",
    "        \n",
    "#     self.ResNet_model.conv1 = nn.Conv2d(1, 64, (7, 7), (2, 2), (3, 3), bias=False)\n",
    "    self.ResNet_model.fc = nn.Linear(2048, 10)\n",
    "    self.softmax = nn.Softmax(dim=1)\n",
    "    self.n_layers = 0\n",
    "    for param in self.ResNet_model.parameters():\n",
    "        self.n_layers += 1\n",
    "        \n",
    "    for i, param in enumerate(self.ResNet_model.parameters()):\n",
    "        if i < self.n_layers - 12:\n",
    "            param.requires_grad = False\n",
    "    \n",
    "  def forward(self, x):\n",
    "    '''Determines the sequence of actions to classify images x'''\n",
    "    resnet_output = self.ResNet_model(x)\n",
    "    return self.softmax(resnet_output)"
   ]
  },
  {
   "cell_type": "code",
   "execution_count": 9,
   "id": "de5125f8",
   "metadata": {
    "execution": {
     "iopub.execute_input": "2023-10-07T23:40:58.582583Z",
     "iopub.status.busy": "2023-10-07T23:40:58.582313Z",
     "iopub.status.idle": "2023-10-07T23:40:58.654579Z",
     "shell.execute_reply": "2023-10-07T23:40:58.653605Z"
    },
    "papermill": {
     "duration": 0.080631,
     "end_time": "2023-10-07T23:40:58.656314",
     "exception": false,
     "start_time": "2023-10-07T23:40:58.575683",
     "status": "completed"
    },
    "tags": []
   },
   "outputs": [
    {
     "data": {
      "text/plain": [
       "True"
      ]
     },
     "execution_count": 9,
     "metadata": {},
     "output_type": "execute_result"
    }
   ],
   "source": [
    "torch.cuda.is_available()"
   ]
  },
  {
   "cell_type": "code",
   "execution_count": 10,
   "id": "a6c58d66",
   "metadata": {
    "execution": {
     "iopub.execute_input": "2023-10-07T23:40:58.670144Z",
     "iopub.status.busy": "2023-10-07T23:40:58.669325Z",
     "iopub.status.idle": "2023-10-07T23:41:04.605963Z",
     "shell.execute_reply": "2023-10-07T23:41:04.605007Z"
    },
    "id": "PheUXmhRUgFj",
    "papermill": {
     "duration": 5.945709,
     "end_time": "2023-10-07T23:41:04.608073",
     "exception": false,
     "start_time": "2023-10-07T23:40:58.662364",
     "status": "completed"
    },
    "tags": []
   },
   "outputs": [
    {
     "name": "stderr",
     "output_type": "stream",
     "text": [
      "Downloading: \"https://github.com/pytorch/vision/zipball/v0.10.0\" to /root/.cache/torch/hub/v0.10.0.zip\n",
      "Downloading: \"https://download.pytorch.org/models/resnet50-0676ba61.pth\" to /root/.cache/torch/hub/checkpoints/resnet50-0676ba61.pth\n",
      "100%|██████████| 97.8M/97.8M [00:00<00:00, 278MB/s]\n"
     ]
    }
   ],
   "source": [
    "# Select the where to perform calculations\n",
    "device = torch.device(\"cuda\") if torch.cuda.is_available() else torch.device(\"cpu\")\n",
    "\n",
    "# Create an instance of the model and pass its weights to the device\n",
    "model = FashionMNISTModel().to(device)\n",
    "# Set the loss function\n",
    "loss_fn = nn.CrossEntropyLoss()\n",
    "# Set the opimizer\n",
    "optimizer = torch.optim.Adam(model.parameters(), lr=1e-3)\n"
   ]
  },
  {
   "cell_type": "markdown",
   "id": "7849611a",
   "metadata": {
    "id": "E95gt0xOVPcK",
    "papermill": {
     "duration": 0.006197,
     "end_time": "2023-10-07T23:41:04.621068",
     "exception": false,
     "start_time": "2023-10-07T23:41:04.614871",
     "status": "completed"
    },
    "tags": []
   },
   "source": [
    "## Model Training\n",
    "\n",
    "Fine-tuning of the pretrained model on our specific task of clothes classification."
   ]
  },
  {
   "cell_type": "markdown",
   "id": "e389bb53",
   "metadata": {
    "id": "CQThe27DV7Lr",
    "papermill": {
     "duration": 0.006113,
     "end_time": "2023-10-07T23:41:04.633719",
     "exception": false,
     "start_time": "2023-10-07T23:41:04.627606",
     "status": "completed"
    },
    "tags": []
   },
   "source": [
    "Here are utility functions to calculate and show metrics:"
   ]
  },
  {
   "cell_type": "code",
   "execution_count": 11,
   "id": "8914fc3d",
   "metadata": {
    "execution": {
     "iopub.execute_input": "2023-10-07T23:41:04.647731Z",
     "iopub.status.busy": "2023-10-07T23:41:04.647431Z",
     "iopub.status.idle": "2023-10-07T23:41:05.630988Z",
     "shell.execute_reply": "2023-10-07T23:41:05.630069Z"
    },
    "id": "eHDVap_0VBV7",
    "papermill": {
     "duration": 0.992855,
     "end_time": "2023-10-07T23:41:05.633099",
     "exception": false,
     "start_time": "2023-10-07T23:41:04.640244",
     "status": "completed"
    },
    "tags": []
   },
   "outputs": [],
   "source": [
    "from sklearn.metrics import precision_score, recall_score, f1_score, accuracy_score\n",
    "\n",
    "def calculate_metric(metric_fn, true_y, pred_y):\n",
    "    if metric_fn != accuracy_score:\n",
    "        return metric_fn(true_y, pred_y, average=\"macro\")\n",
    "    else:\n",
    "        return metric_fn(true_y, pred_y)\n",
    "\n",
    "def print_scores(p, r, f1, a, batch_size):\n",
    "    for name, scores in zip((\"precision\", \"recall\", \"F1\", \"accuracy\"), (p, r, f1, a)):\n",
    "        print(f\"\\t{name.rjust(14, ' ')}: {sum(scores)/batch_size:.4f}\")"
   ]
  },
  {
   "cell_type": "markdown",
   "id": "a808f5a5",
   "metadata": {
    "id": "rBwWENxrWpI6",
    "papermill": {
     "duration": 0.006524,
     "end_time": "2023-10-07T23:41:05.646386",
     "exception": false,
     "start_time": "2023-10-07T23:41:05.639862",
     "status": "completed"
    },
    "tags": []
   },
   "source": [
    "Training loop"
   ]
  },
  {
   "cell_type": "code",
   "execution_count": 12,
   "id": "a21d98b8",
   "metadata": {
    "execution": {
     "iopub.execute_input": "2023-10-07T23:41:05.660252Z",
     "iopub.status.busy": "2023-10-07T23:41:05.659983Z",
     "iopub.status.idle": "2023-10-07T23:51:04.703693Z",
     "shell.execute_reply": "2023-10-07T23:51:04.702733Z"
    },
    "id": "SdQbwKKmW2aB",
    "papermill": {
     "duration": 599.165821,
     "end_time": "2023-10-07T23:51:04.818400",
     "exception": false,
     "start_time": "2023-10-07T23:41:05.652579",
     "status": "completed"
    },
    "tags": []
   },
   "outputs": [
    {
     "name": "stderr",
     "output_type": "stream",
     "text": [
      "Loss: 208.7433: 100%|██████████| 421/421 [03:07<00:00,  2.25it/s]\n"
     ]
    },
    {
     "name": "stdout",
     "output_type": "stream",
     "text": [
      "Epoch 1/3, training loss: 208.74333154673815, validation loss: 203.0079803466797\n",
      "\t     precision: 0.8813\n",
      "\t        recall: 0.8753\n",
      "\t            F1: 0.8710\n",
      "\t      accuracy: 0.8753\n"
     ]
    },
    {
     "name": "stderr",
     "output_type": "stream",
     "text": [
      "Loss: 200.6572: 100%|██████████| 421/421 [03:01<00:00,  2.32it/s]\n"
     ]
    },
    {
     "name": "stdout",
     "output_type": "stream",
     "text": [
      "Epoch 2/3, training loss: 200.65722290184038, validation loss: 200.7902069091797\n",
      "\t     precision: 0.8954\n",
      "\t        recall: 0.8971\n",
      "\t            F1: 0.8905\n",
      "\t      accuracy: 0.8945\n"
     ]
    },
    {
     "name": "stderr",
     "output_type": "stream",
     "text": [
      "Loss: 198.7598: 100%|██████████| 421/421 [02:55<00:00,  2.40it/s]\n"
     ]
    },
    {
     "name": "stdout",
     "output_type": "stream",
     "text": [
      "Epoch 3/3, training loss: 198.75984420232706, validation loss: 200.28787231445312\n",
      "\t     precision: 0.9041\n",
      "\t        recall: 0.8964\n",
      "\t            F1: 0.8954\n",
      "\t      accuracy: 0.8967\n"
     ]
    }
   ],
   "source": [
    "from tqdm import tqdm\n",
    "\n",
    "epochs = 3\n",
    "\n",
    "losses = []\n",
    "batches = len(train_loader)\n",
    "val_batches = len(val_loader)\n",
    "\n",
    "# loop for every epoch (training + evaluation)\n",
    "for epoch in range(epochs):\n",
    "    total_loss = 0\n",
    "\n",
    "    # progress bar\n",
    "    progress = tqdm(enumerate(train_loader), desc=\"Loss: \", total=batches)\n",
    "\n",
    "    # ----------------- TRAINING  --------------------\n",
    "    # set model to training\n",
    "    model.train()\n",
    "\n",
    "    for i, data in progress:\n",
    "        images, labels = data\n",
    "        images = images.to(device)\n",
    "        \n",
    "        model.zero_grad()\n",
    "        \n",
    "        # training step for single batch\n",
    "        outputs = model(images)\n",
    "        outputs = outputs.to('cpu')\n",
    "        loss = loss_fn(outputs, labels)\n",
    "        \n",
    "        # update running training loss\n",
    "        current_loss = loss.item()\n",
    "        total_loss += current_loss * images.size(0)\n",
    "        \n",
    "        loss.backward()\n",
    "        optimizer.step()\n",
    "        \n",
    "        # updating progress bar\n",
    "        progress.set_description(\"Loss: {:.4f}\".format(total_loss/(i+1)))\n",
    "\n",
    "    # releasing unceseccary memory in GPU\n",
    "    if torch.cuda.is_available():\n",
    "        torch.cuda.empty_cache()\n",
    "\n",
    "    # ----------------- VALIDATION  -----------------\n",
    "    val_losses = 0\n",
    "    precision, recall, f1, accuracy = [], [], [], []\n",
    "\n",
    "    # set model to evaluating (testing)\n",
    "    model.eval()\n",
    "    with torch.no_grad():\n",
    "        for i, data in enumerate(val_loader):\n",
    "            images, labels = data\n",
    "            images = images.to(device)\n",
    "            \n",
    "            outputs = model(images)\n",
    "            outputs = outputs.to('cpu')\n",
    "\n",
    "            # update running validation loss\n",
    "            val_losses += loss_fn(outputs, labels) * images.size(0)\n",
    "            predicted_classes = torch.argmax(outputs, dim=1)\n",
    "            # calculate P/R/F1/A metrics for batch\n",
    "            for acc, metric in zip((precision, recall, f1, accuracy),\n",
    "                                   (precision_score, recall_score, f1_score, accuracy_score)):\n",
    "                acc.append(\n",
    "                    calculate_metric(metric, labels.cpu(), predicted_classes.cpu())\n",
    "                )\n",
    "\n",
    "    print(f\"Epoch {epoch+1}/{epochs}, training loss: {total_loss/batches}, validation loss: {val_losses/val_batches}\")\n",
    "    print_scores(precision, recall, f1, accuracy, val_batches)\n",
    "    losses.append(total_loss/batches)"
   ]
  },
  {
   "cell_type": "markdown",
   "id": "58d0ea2b",
   "metadata": {
    "id": "ib6auOXXXEIS",
    "papermill": {
     "duration": 0.110962,
     "end_time": "2023-10-07T23:51:05.042393",
     "exception": false,
     "start_time": "2023-10-07T23:51:04.931431",
     "status": "completed"
    },
    "tags": []
   },
   "source": [
    "## Inference\n",
    "Produce labels on the testing images"
   ]
  },
  {
   "cell_type": "markdown",
   "id": "3d52a386",
   "metadata": {
    "id": "qW9QxfKCXyem",
    "papermill": {
     "duration": 0.112238,
     "end_time": "2023-10-07T23:51:05.314755",
     "exception": false,
     "start_time": "2023-10-07T23:51:05.202517",
     "status": "completed"
    },
    "tags": []
   },
   "source": [
    "Load the dataset in the testing mode"
   ]
  },
  {
   "cell_type": "code",
   "execution_count": 13,
   "id": "364429d1",
   "metadata": {
    "execution": {
     "iopub.execute_input": "2023-10-07T23:51:05.536102Z",
     "iopub.status.busy": "2023-10-07T23:51:05.535781Z",
     "iopub.status.idle": "2023-10-07T23:51:06.478938Z",
     "shell.execute_reply": "2023-10-07T23:51:06.477908Z"
    },
    "id": "2-eMasm0XIdi",
    "papermill": {
     "duration": 1.056555,
     "end_time": "2023-10-07T23:51:06.481192",
     "exception": false,
     "start_time": "2023-10-07T23:51:05.424637",
     "status": "completed"
    },
    "tags": []
   },
   "outputs": [],
   "source": [
    "import os\n",
    "\n",
    "test_dataset = FashionMNISTDataset(\n",
    "    csv_path='/kaggle/input/pmldl-week-6-transfer-learning-in-cv/fashion_mnist_test_data.csv', \n",
    "    pixels_mean = pixels_mean,\n",
    "    pixels_std = pixels_std,\n",
    "    train=False)"
   ]
  },
  {
   "cell_type": "markdown",
   "id": "95773d43",
   "metadata": {
    "id": "qroK0ih37jKN",
    "papermill": {
     "duration": 0.109365,
     "end_time": "2023-10-07T23:51:06.705102",
     "exception": false,
     "start_time": "2023-10-07T23:51:06.595737",
     "status": "completed"
    },
    "tags": []
   },
   "source": [
    "Make a loader of the testing dataset"
   ]
  },
  {
   "cell_type": "code",
   "execution_count": 14,
   "id": "582c4af0",
   "metadata": {
    "execution": {
     "iopub.execute_input": "2023-10-07T23:51:06.926999Z",
     "iopub.status.busy": "2023-10-07T23:51:06.926672Z",
     "iopub.status.idle": "2023-10-07T23:51:06.931353Z",
     "shell.execute_reply": "2023-10-07T23:51:06.930291Z"
    },
    "id": "tQT-FkG8Xm9r",
    "papermill": {
     "duration": 0.118291,
     "end_time": "2023-10-07T23:51:06.933216",
     "exception": false,
     "start_time": "2023-10-07T23:51:06.814925",
     "status": "completed"
    },
    "tags": []
   },
   "outputs": [],
   "source": [
    "test_loader = DataLoader(\n",
    "    test_dataset, batch_size=500, shuffle=False, drop_last = False\n",
    ")"
   ]
  },
  {
   "cell_type": "markdown",
   "id": "685a92c4",
   "metadata": {
    "id": "S1Lcsf0i74kk",
    "papermill": {
     "duration": 0.109503,
     "end_time": "2023-10-07T23:51:07.151573",
     "exception": false,
     "start_time": "2023-10-07T23:51:07.042070",
     "status": "completed"
    },
    "tags": []
   },
   "source": [
    "Make predictions and generate a submission file"
   ]
  },
  {
   "cell_type": "code",
   "execution_count": 15,
   "id": "54165c06",
   "metadata": {
    "execution": {
     "iopub.execute_input": "2023-10-07T23:51:07.383683Z",
     "iopub.status.busy": "2023-10-07T23:51:07.382729Z",
     "iopub.status.idle": "2023-10-07T23:51:39.979384Z",
     "shell.execute_reply": "2023-10-07T23:51:39.978200Z"
    },
    "id": "c8uJgK9ZYFdy",
    "papermill": {
     "duration": 32.719212,
     "end_time": "2023-10-07T23:51:39.981278",
     "exception": false,
     "start_time": "2023-10-07T23:51:07.262066",
     "status": "completed"
    },
    "tags": []
   },
   "outputs": [
    {
     "name": "stderr",
     "output_type": "stream",
     "text": [
      "Loss:   0%|          | 0/20 [00:00<?, ?it/s]"
     ]
    },
    {
     "name": "stdout",
     "output_type": "stream",
     "text": [
      "torch.Size([500, 10])\n"
     ]
    },
    {
     "name": "stderr",
     "output_type": "stream",
     "text": [
      "Loss:   5%|▌         | 1/20 [00:01<00:31,  1.66s/it]"
     ]
    },
    {
     "name": "stdout",
     "output_type": "stream",
     "text": [
      "torch.Size([500, 10])\n"
     ]
    },
    {
     "name": "stderr",
     "output_type": "stream",
     "text": [
      "Loss:  10%|█         | 2/20 [00:03<00:29,  1.65s/it]"
     ]
    },
    {
     "name": "stdout",
     "output_type": "stream",
     "text": [
      "torch.Size([500, 10])\n"
     ]
    },
    {
     "name": "stderr",
     "output_type": "stream",
     "text": [
      "Loss:  15%|█▌        | 3/20 [00:05<00:28,  1.69s/it]"
     ]
    },
    {
     "name": "stdout",
     "output_type": "stream",
     "text": [
      "torch.Size([500, 10])\n"
     ]
    },
    {
     "name": "stderr",
     "output_type": "stream",
     "text": [
      "Loss:  20%|██        | 4/20 [00:06<00:26,  1.67s/it]"
     ]
    },
    {
     "name": "stdout",
     "output_type": "stream",
     "text": [
      "torch.Size([500, 10])\n"
     ]
    },
    {
     "name": "stderr",
     "output_type": "stream",
     "text": [
      "Loss:  25%|██▌       | 5/20 [00:08<00:25,  1.68s/it]"
     ]
    },
    {
     "name": "stdout",
     "output_type": "stream",
     "text": [
      "torch.Size([500, 10])\n"
     ]
    },
    {
     "name": "stderr",
     "output_type": "stream",
     "text": [
      "Loss:  30%|███       | 6/20 [00:10<00:23,  1.71s/it]"
     ]
    },
    {
     "name": "stdout",
     "output_type": "stream",
     "text": [
      "torch.Size([500, 10])\n"
     ]
    },
    {
     "name": "stderr",
     "output_type": "stream",
     "text": [
      "Loss:  35%|███▌      | 7/20 [00:11<00:22,  1.74s/it]"
     ]
    },
    {
     "name": "stdout",
     "output_type": "stream",
     "text": [
      "torch.Size([500, 10])\n"
     ]
    },
    {
     "name": "stderr",
     "output_type": "stream",
     "text": [
      "Loss:  40%|████      | 8/20 [00:13<00:20,  1.71s/it]"
     ]
    },
    {
     "name": "stdout",
     "output_type": "stream",
     "text": [
      "torch.Size([500, 10])\n"
     ]
    },
    {
     "name": "stderr",
     "output_type": "stream",
     "text": [
      "Loss:  45%|████▌     | 9/20 [00:15<00:18,  1.71s/it]"
     ]
    },
    {
     "name": "stdout",
     "output_type": "stream",
     "text": [
      "torch.Size([500, 10])\n"
     ]
    },
    {
     "name": "stderr",
     "output_type": "stream",
     "text": [
      "Loss:  50%|█████     | 10/20 [00:16<00:16,  1.69s/it]"
     ]
    },
    {
     "name": "stdout",
     "output_type": "stream",
     "text": [
      "torch.Size([500, 10])\n"
     ]
    },
    {
     "name": "stderr",
     "output_type": "stream",
     "text": [
      "Loss:  55%|█████▌    | 11/20 [00:18<00:15,  1.69s/it]"
     ]
    },
    {
     "name": "stdout",
     "output_type": "stream",
     "text": [
      "torch.Size([500, 10])\n"
     ]
    },
    {
     "name": "stderr",
     "output_type": "stream",
     "text": [
      "Loss:  60%|██████    | 12/20 [00:20<00:13,  1.67s/it]"
     ]
    },
    {
     "name": "stdout",
     "output_type": "stream",
     "text": [
      "torch.Size([500, 10])\n"
     ]
    },
    {
     "name": "stderr",
     "output_type": "stream",
     "text": [
      "Loss:  65%|██████▌   | 13/20 [00:21<00:11,  1.67s/it]"
     ]
    },
    {
     "name": "stdout",
     "output_type": "stream",
     "text": [
      "torch.Size([500, 10])\n"
     ]
    },
    {
     "name": "stderr",
     "output_type": "stream",
     "text": [
      "Loss:  70%|███████   | 14/20 [00:23<00:09,  1.62s/it]"
     ]
    },
    {
     "name": "stdout",
     "output_type": "stream",
     "text": [
      "torch.Size([500, 10])\n"
     ]
    },
    {
     "name": "stderr",
     "output_type": "stream",
     "text": [
      "Loss:  75%|███████▌  | 15/20 [00:25<00:08,  1.61s/it]"
     ]
    },
    {
     "name": "stdout",
     "output_type": "stream",
     "text": [
      "torch.Size([500, 10])\n"
     ]
    },
    {
     "name": "stderr",
     "output_type": "stream",
     "text": [
      "Loss:  80%|████████  | 16/20 [00:26<00:06,  1.57s/it]"
     ]
    },
    {
     "name": "stdout",
     "output_type": "stream",
     "text": [
      "torch.Size([500, 10])\n"
     ]
    },
    {
     "name": "stderr",
     "output_type": "stream",
     "text": [
      "Loss:  85%|████████▌ | 17/20 [00:28<00:04,  1.56s/it]"
     ]
    },
    {
     "name": "stdout",
     "output_type": "stream",
     "text": [
      "torch.Size([500, 10])\n"
     ]
    },
    {
     "name": "stderr",
     "output_type": "stream",
     "text": [
      "Loss:  90%|█████████ | 18/20 [00:29<00:03,  1.54s/it]"
     ]
    },
    {
     "name": "stdout",
     "output_type": "stream",
     "text": [
      "torch.Size([500, 10])\n"
     ]
    },
    {
     "name": "stderr",
     "output_type": "stream",
     "text": [
      "Loss:  95%|█████████▌| 19/20 [00:31<00:01,  1.54s/it]"
     ]
    },
    {
     "name": "stdout",
     "output_type": "stream",
     "text": [
      "torch.Size([500, 10])\n"
     ]
    },
    {
     "name": "stderr",
     "output_type": "stream",
     "text": [
      "Loss: 100%|██████████| 20/20 [00:32<00:00,  1.63s/it]\n"
     ]
    }
   ],
   "source": [
    "predictions = []\n",
    "batches = len(test_loader)\n",
    "progress = tqdm(enumerate(test_loader), desc=\"Loss: \", total=batches)\n",
    "with torch.no_grad():\n",
    "    model.eval()\n",
    "    for i, images in progress:\n",
    "        images = images.to(device)\n",
    "\n",
    "        outputs = model(images)\n",
    "        print(outputs.size())\n",
    "        outputs = outputs.to('cpu')\n",
    "        \n",
    "        predictions += [*torch.argmax(outputs, dim=1)]"
   ]
  },
  {
   "cell_type": "code",
   "execution_count": 16,
   "id": "44739ed1",
   "metadata": {
    "execution": {
     "iopub.execute_input": "2023-10-07T23:51:40.255711Z",
     "iopub.status.busy": "2023-10-07T23:51:40.255373Z",
     "iopub.status.idle": "2023-10-07T23:51:40.263403Z",
     "shell.execute_reply": "2023-10-07T23:51:40.262445Z"
    },
    "papermill": {
     "duration": 0.171141,
     "end_time": "2023-10-07T23:51:40.265070",
     "exception": false,
     "start_time": "2023-10-07T23:51:40.093929",
     "status": "completed"
    },
    "tags": []
   },
   "outputs": [],
   "source": [
    "int_preds = [pred.item() for pred in predictions]        "
   ]
  },
  {
   "cell_type": "code",
   "execution_count": 17,
   "id": "1bea1840",
   "metadata": {
    "execution": {
     "iopub.execute_input": "2023-10-07T23:51:40.504619Z",
     "iopub.status.busy": "2023-10-07T23:51:40.504268Z",
     "iopub.status.idle": "2023-10-07T23:51:40.509714Z",
     "shell.execute_reply": "2023-10-07T23:51:40.508850Z"
    },
    "papermill": {
     "duration": 0.120508,
     "end_time": "2023-10-07T23:51:40.511364",
     "exception": false,
     "start_time": "2023-10-07T23:51:40.390856",
     "status": "completed"
    },
    "tags": []
   },
   "outputs": [
    {
     "data": {
      "text/plain": [
       "10000"
      ]
     },
     "execution_count": 17,
     "metadata": {},
     "output_type": "execute_result"
    }
   ],
   "source": [
    "len(int_preds)"
   ]
  },
  {
   "cell_type": "code",
   "execution_count": 18,
   "id": "100aff38",
   "metadata": {
    "execution": {
     "iopub.execute_input": "2023-10-07T23:51:40.740744Z",
     "iopub.status.busy": "2023-10-07T23:51:40.740390Z",
     "iopub.status.idle": "2023-10-07T23:51:40.763226Z",
     "shell.execute_reply": "2023-10-07T23:51:40.762349Z"
    },
    "id": "b8Z2AOzJYKkC",
    "papermill": {
     "duration": 0.141785,
     "end_time": "2023-10-07T23:51:40.765030",
     "exception": false,
     "start_time": "2023-10-07T23:51:40.623245",
     "status": "completed"
    },
    "tags": []
   },
   "outputs": [],
   "source": [
    "# generate the submission file\n",
    "submission_df = pd.DataFrame(columns=['id', 'label'])\n",
    "submission_df['id'] = test_dataset.fm_raw.index\n",
    "submission_df['label'] = int_preds[:10000]\n",
    "submission_df.to_csv('submission.csv', index=None)"
   ]
  },
  {
   "cell_type": "code",
   "execution_count": 19,
   "id": "fcfe8f04",
   "metadata": {
    "execution": {
     "iopub.execute_input": "2023-10-07T23:51:40.994816Z",
     "iopub.status.busy": "2023-10-07T23:51:40.994446Z",
     "iopub.status.idle": "2023-10-07T23:51:41.005469Z",
     "shell.execute_reply": "2023-10-07T23:51:41.004499Z"
    },
    "id": "6Zlz9Qrg53Ua",
    "papermill": {
     "duration": 0.128875,
     "end_time": "2023-10-07T23:51:41.007314",
     "exception": false,
     "start_time": "2023-10-07T23:51:40.878439",
     "status": "completed"
    },
    "tags": []
   },
   "outputs": [
    {
     "data": {
      "text/html": [
       "<div>\n",
       "<style scoped>\n",
       "    .dataframe tbody tr th:only-of-type {\n",
       "        vertical-align: middle;\n",
       "    }\n",
       "\n",
       "    .dataframe tbody tr th {\n",
       "        vertical-align: top;\n",
       "    }\n",
       "\n",
       "    .dataframe thead th {\n",
       "        text-align: right;\n",
       "    }\n",
       "</style>\n",
       "<table border=\"1\" class=\"dataframe\">\n",
       "  <thead>\n",
       "    <tr style=\"text-align: right;\">\n",
       "      <th></th>\n",
       "      <th>id</th>\n",
       "      <th>label</th>\n",
       "    </tr>\n",
       "  </thead>\n",
       "  <tbody>\n",
       "    <tr>\n",
       "      <th>0</th>\n",
       "      <td>60000</td>\n",
       "      <td>8</td>\n",
       "    </tr>\n",
       "    <tr>\n",
       "      <th>1</th>\n",
       "      <td>60001</td>\n",
       "      <td>4</td>\n",
       "    </tr>\n",
       "    <tr>\n",
       "      <th>2</th>\n",
       "      <td>60002</td>\n",
       "      <td>2</td>\n",
       "    </tr>\n",
       "    <tr>\n",
       "      <th>3</th>\n",
       "      <td>60003</td>\n",
       "      <td>9</td>\n",
       "    </tr>\n",
       "    <tr>\n",
       "      <th>4</th>\n",
       "      <td>60004</td>\n",
       "      <td>2</td>\n",
       "    </tr>\n",
       "  </tbody>\n",
       "</table>\n",
       "</div>"
      ],
      "text/plain": [
       "      id  label\n",
       "0  60000      8\n",
       "1  60001      4\n",
       "2  60002      2\n",
       "3  60003      9\n",
       "4  60004      2"
      ]
     },
     "execution_count": 19,
     "metadata": {},
     "output_type": "execute_result"
    }
   ],
   "source": [
    "submission_df.head()"
   ]
  },
  {
   "cell_type": "code",
   "execution_count": 20,
   "id": "fb4d82ea",
   "metadata": {
    "execution": {
     "iopub.execute_input": "2023-10-07T23:51:41.237403Z",
     "iopub.status.busy": "2023-10-07T23:51:41.236770Z",
     "iopub.status.idle": "2023-10-07T23:51:42.382346Z",
     "shell.execute_reply": "2023-10-07T23:51:42.381465Z"
    },
    "papermill": {
     "duration": 1.260839,
     "end_time": "2023-10-07T23:51:42.384362",
     "exception": false,
     "start_time": "2023-10-07T23:51:41.123523",
     "status": "completed"
    },
    "tags": []
   },
   "outputs": [
    {
     "data": {
      "image/png": "[encoded data removed]",
      "text/plain": [
       "<Figure size 1600x800 with 1 Axes>"
      ]
     },
     "metadata": {},
     "output_type": "display_data"
    }
   ],
   "source": [
    "import matplotlib.pyplot as plt\n",
    "from torchvision.utils import make_grid\n",
    "\n",
    "for images in test_loader:\n",
    "    images = images[:16]\n",
    "    plt.figure(figsize=(16,8))\n",
    "    plt.axis('off')\n",
    "    plt.imshow(make_grid(images, nrow=16).permute((1, 2, 0)))\n",
    "    break"
   ]
  },
  {
   "cell_type": "code",
   "execution_count": 21,
   "id": "d03bed5d",
   "metadata": {
    "execution": {
     "iopub.execute_input": "2023-10-07T23:51:42.622264Z",
     "iopub.status.busy": "2023-10-07T23:51:42.621261Z",
     "iopub.status.idle": "2023-10-07T23:51:42.630233Z",
     "shell.execute_reply": "2023-10-07T23:51:42.629244Z"
    },
    "papermill": {
     "duration": 0.128993,
     "end_time": "2023-10-07T23:51:42.632085",
     "exception": false,
     "start_time": "2023-10-07T23:51:42.503092",
     "status": "completed"
    },
    "tags": []
   },
   "outputs": [
    {
     "data": {
      "text/html": [
       "<div>\n",
       "<style scoped>\n",
       "    .dataframe tbody tr th:only-of-type {\n",
       "        vertical-align: middle;\n",
       "    }\n",
       "\n",
       "    .dataframe tbody tr th {\n",
       "        vertical-align: top;\n",
       "    }\n",
       "\n",
       "    .dataframe thead th {\n",
       "        text-align: right;\n",
       "    }\n",
       "</style>\n",
       "<table border=\"1\" class=\"dataframe\">\n",
       "  <thead>\n",
       "    <tr style=\"text-align: right;\">\n",
       "      <th></th>\n",
       "      <th>id</th>\n",
       "      <th>label</th>\n",
       "    </tr>\n",
       "  </thead>\n",
       "  <tbody>\n",
       "    <tr>\n",
       "      <th>0</th>\n",
       "      <td>60000</td>\n",
       "      <td>8</td>\n",
       "    </tr>\n",
       "    <tr>\n",
       "      <th>1</th>\n",
       "      <td>60001</td>\n",
       "      <td>4</td>\n",
       "    </tr>\n",
       "    <tr>\n",
       "      <th>2</th>\n",
       "      <td>60002</td>\n",
       "      <td>2</td>\n",
       "    </tr>\n",
       "    <tr>\n",
       "      <th>3</th>\n",
       "      <td>60003</td>\n",
       "      <td>9</td>\n",
       "    </tr>\n",
       "    <tr>\n",
       "      <th>4</th>\n",
       "      <td>60004</td>\n",
       "      <td>2</td>\n",
       "    </tr>\n",
       "    <tr>\n",
       "      <th>5</th>\n",
       "      <td>60005</td>\n",
       "      <td>1</td>\n",
       "    </tr>\n",
       "    <tr>\n",
       "      <th>6</th>\n",
       "      <td>60006</td>\n",
       "      <td>3</td>\n",
       "    </tr>\n",
       "    <tr>\n",
       "      <th>7</th>\n",
       "      <td>60007</td>\n",
       "      <td>7</td>\n",
       "    </tr>\n",
       "    <tr>\n",
       "      <th>8</th>\n",
       "      <td>60008</td>\n",
       "      <td>1</td>\n",
       "    </tr>\n",
       "    <tr>\n",
       "      <th>9</th>\n",
       "      <td>60009</td>\n",
       "      <td>2</td>\n",
       "    </tr>\n",
       "  </tbody>\n",
       "</table>\n",
       "</div>"
      ],
      "text/plain": [
       "      id  label\n",
       "0  60000      8\n",
       "1  60001      4\n",
       "2  60002      2\n",
       "3  60003      9\n",
       "4  60004      2\n",
       "5  60005      1\n",
       "6  60006      3\n",
       "7  60007      7\n",
       "8  60008      1\n",
       "9  60009      2"
      ]
     },
     "execution_count": 21,
     "metadata": {},
     "output_type": "execute_result"
    }
   ],
   "source": [
    "submission_df.head(10)"
   ]
  }
 ],
 "metadata": {
  "kernelspec": {
   "display_name": "Python 3",
   "language": "python",
   "name": "python3"
  },
  "language_info": {
   "codemirror_mode": {
    "name": "ipython",
    "version": 3
   },
   "file_extension": ".py",
   "mimetype": "text/x-python",
   "name": "python",
   "nbconvert_exporter": "python",
   "pygments_lexer": "ipython3",
   "version": "3.10.12"
  },
  "papermill": {
   "default_parameters": {},
   "duration": 661.087671,
   "end_time": "2023-10-07T23:51:45.360038",
   "environment_variables": {},
   "exception": null,
   "input_path": "__notebook__.ipynb",
   "output_path": "__notebook__.ipynb",
   "parameters": {},
   "start_time": "2023-10-07T23:40:44.272367",
   "version": "2.4.0"
  }
 },
 "nbformat": 4,
 "nbformat_minor": 5
}
